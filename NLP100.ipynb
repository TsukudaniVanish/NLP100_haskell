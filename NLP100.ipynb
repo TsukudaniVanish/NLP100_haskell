{
 "cells": [
  {
   "cell_type": "markdown",
   "id": "69ea556d",
   "metadata": {},
   "source": [
    "## 言語処理100本ノック2020 in Haskell"
   ]
  },
  {
   "cell_type": "markdown",
   "id": "b297dc5e",
   "metadata": {},
   "source": [
    "### chapter 1"
   ]
  },
  {
   "cell_type": "code",
   "execution_count": 1,
   "id": "ac21f3a6",
   "metadata": {},
   "outputs": [],
   "source": [
    ":extension OverloadedStrings\n",
    "import qualified Data.Text as T\n",
    "import Prelude as P"
   ]
  },
  {
   "cell_type": "code",
   "execution_count": 2,
   "id": "7ba20c14",
   "metadata": {},
   "outputs": [
    {
     "data": {
      "text/plain": [
       "desserts"
      ]
     },
     "metadata": {},
     "output_type": "display_data"
    }
   ],
   "source": [
    "-- 00\n",
    "src =\"stressed\" :: T.Text\n",
    "putStrLn $ T.unpack $ T.reverse src "
   ]
  },
  {
   "cell_type": "code",
   "execution_count": 3,
   "id": "efda40eb",
   "metadata": {},
   "outputs": [
    {
     "data": {
      "text/plain": [
       "パトカー"
      ]
     },
     "metadata": {},
     "output_type": "display_data"
    }
   ],
   "source": [
    "-- 00\n",
    "src = \"パタトクカシーー\" :: T.Text\n",
    "\n",
    "f :: T.Text -> Maybe T.Text\n",
    "f s | T.length s < 7 =  Nothing\n",
    "    | otherwise = Just $ T.pack [T.head s, T.index s 2, T.index s 4, T.index s 6]\n",
    "\n",
    "case f src of \n",
    "    Just s -> putStrLn $ T.unpack s\n",
    "    Nothing -> return ()"
   ]
  },
  {
   "cell_type": "code",
   "execution_count": 4,
   "id": "760a26ed",
   "metadata": {},
   "outputs": [
    {
     "data": {
      "text/plain": [
       "パタトクカシーー"
      ]
     },
     "metadata": {},
     "output_type": "display_data"
    }
   ],
   "source": [
    "-- 00\n",
    "src1 = \"パトカー\"\n",
    "src2 = \"タクシー\"\n",
    "\n",
    "f :: T.Text -> T.Text -> T.Text\n",
    "f z w = P.foldr (\\s t -> T.pack [fst s, snd s] <> t)  \"\" (T.zip z w) \n",
    "\n",
    "putStrLn $ T.unpack $ f src1 src2"
   ]
  },
  {
   "cell_type": "code",
   "execution_count": 5,
   "id": "282beacf",
   "metadata": {},
   "outputs": [
    {
     "data": {
      "text/plain": [
       "[3,1,4,1,5,9,2,6,5,3,5,8,9,7,9]"
      ]
     },
     "metadata": {},
     "output_type": "display_data"
    }
   ],
   "source": [
    "-- 00\n",
    "src = \"Now I need a drink, alcoholic of course, after the heavy lectures involving quantum mechanics.\"\n",
    "\n",
    "getCountList :: T.Text -> [Int]\n",
    "getCountList s = \n",
    "    let \n",
    "        ws' = P.map (T.filter (\\c -> c /= ',' && c /= '.')) (T.words s)\n",
    "    in \n",
    "        builder ws' []\n",
    "    where \n",
    "        builder :: [T.Text] -> [Int] -> [Int]\n",
    "        builder ws counts | P.null ws = counts\n",
    "                          | otherwise = builder (P.tail ws) (counts <> [T.length (P.head ws)])\n",
    "\n",
    "getCountList src"
   ]
  },
  {
   "cell_type": "code",
   "execution_count": 7,
   "id": "67117012",
   "metadata": {},
   "outputs": [
    {
     "data": {
      "text/plain": [
       "HHeLiBeBCNOFNeNaMiAlSiPSClArKCa"
      ]
     },
     "metadata": {},
     "output_type": "display_data"
    },
    {
     "data": {
      "text/plain": [
       "fromList [(\"Might\",11),(\"Can.\",19),(\"Not\",6),(\"Nations\",10),(\"Boron\",4),(\"New\",9),(\"Sign\",13),(\"Clause.\",16),(\"Fluorine.\",8),(\"Could\",5),(\"Oxidize\",7),(\"Lied\",2),(\"He\",1),(\"Because\",3),(\"Hi\",0),(\"Also\",12),(\"Peace\",14),(\"Arthur\",17),(\"King\",18),(\"Security\",15)]"
      ]
     },
     "metadata": {},
     "output_type": "display_data"
    }
   ],
   "source": [
    "-- 00\n",
    "import qualified Data.HashMap.Strict as HM\n",
    "import Data.Function\n",
    "src = \"Hi He Lied Because Boron Could Not Oxidize Fluorine. New Nations Might Also Sign Peace Security Clause. Arthur King Can.\"\n",
    "onlyOne = [0, 4, 5, 6, 7, 8, 14, 15, 18]\n",
    "\n",
    "f :: T.Text -> T.Text\n",
    "f s =\n",
    "    let\n",
    "        ws = T.words s\n",
    "        wns = P.zip [0..(P.length ws -1)] ws\n",
    "    in seq ws $\n",
    "        if P.length ws < 19 then \"\"\n",
    "        else seq wns $\n",
    "            P.foldr (\\s t -> let (ind, text) = s in if ind `elem` onlyOne then T.pack [T.head text] <> t else T.pack [T.head text, T.index text 1] <> t) \"\" wns\n",
    "\n",
    "putStrLn $ T.unpack $ f src\n",
    "\n",
    "pairingIndex :: T.Text -> HM.HashMap T.Text Int\n",
    "pairingIndex sentences =\n",
    "    let\n",
    "        ws' = T.words src\n",
    "        ws = P.filter ( /= \".\") $! ws'\n",
    "        wns = P.zip [0..(P.length ws -1)] ws\n",
    "    in\n",
    "        flip fix (HM.empty, wns) $ \\loop (dict, rest) ->\n",
    "            if P.null rest then dict\n",
    "            else\n",
    "                let (v, k) = P.head rest in\n",
    "                loop (HM.insert k v dict, P.tail rest)\n",
    "\n",
    "\n",
    "print $ pairingIndex src \n"
   ]
  },
  {
   "cell_type": "code",
   "execution_count": null,
   "id": "172f68f3",
   "metadata": {},
   "outputs": [
    {
     "data": {
      "text/html": [
       "<style>/* Styles used for the Hoogle display in the pager */\n",
       ".hoogle-doc {\n",
       "display: block;\n",
       "padding-bottom: 1.3em;\n",
       "padding-left: 0.4em;\n",
       "}\n",
       ".hoogle-code {\n",
       "display: block;\n",
       "font-family: monospace;\n",
       "white-space: pre;\n",
       "}\n",
       ".hoogle-text {\n",
       "display: block;\n",
       "}\n",
       ".hoogle-name {\n",
       "color: green;\n",
       "font-weight: bold;\n",
       "}\n",
       ".hoogle-head {\n",
       "font-weight: bold;\n",
       "}\n",
       ".hoogle-sub {\n",
       "display: block;\n",
       "margin-left: 0.4em;\n",
       "}\n",
       ".hoogle-package {\n",
       "font-weight: bold;\n",
       "font-style: italic;\n",
       "}\n",
       ".hoogle-module {\n",
       "font-weight: bold;\n",
       "}\n",
       ".hoogle-class {\n",
       "font-weight: bold;\n",
       "}\n",
       ".get-type {\n",
       "color: green;\n",
       "font-weight: bold;\n",
       "font-family: monospace;\n",
       "display: block;\n",
       "white-space: pre-wrap;\n",
       "}\n",
       ".show-type {\n",
       "color: green;\n",
       "font-weight: bold;\n",
       "font-family: monospace;\n",
       "margin-left: 1em;\n",
       "}\n",
       ".mono {\n",
       "font-family: monospace;\n",
       "display: block;\n",
       "}\n",
       ".err-msg {\n",
       "color: red;\n",
       "font-style: italic;\n",
       "font-family: monospace;\n",
       "white-space: pre;\n",
       "display: block;\n",
       "}\n",
       "#unshowable {\n",
       "color: red;\n",
       "font-weight: bold;\n",
       "}\n",
       ".err-msg.in.collapse {\n",
       "padding-top: 0.7em;\n",
       "}\n",
       ".highlight-code {\n",
       "white-space: pre;\n",
       "font-family: monospace;\n",
       "}\n",
       ".suggestion-warning { \n",
       "font-weight: bold;\n",
       "color: rgb(200, 130, 0);\n",
       "}\n",
       ".suggestion-error { \n",
       "font-weight: bold;\n",
       "color: red;\n",
       "}\n",
       ".suggestion-name {\n",
       "font-weight: bold;\n",
       "}\n",
       "</style><div class=\"suggestion-name\" style=\"clear:both;\">Avoid lambda using `infix`</div><div class=\"suggestion-row\" style=\"float: left;\"><div class=\"suggestion-warning\">Found:</div><div class=\"highlight-code\" id=\"haskell\">(\\ t -> t <> \" \")</div></div><div class=\"suggestion-row\" style=\"float: left;\"><div class=\"suggestion-warning\">Why Not:</div><div class=\"highlight-code\" id=\"haskell\">(<> \" \")</div></div>"
      ],
      "text/plain": [
       "Line 12: Avoid lambda using `infix`\n",
       "Found:\n",
       "(\\ t -> t <> \" \")\n",
       "Why not:\n",
       "(<> \" \")"
      ]
     },
     "metadata": {},
     "output_type": "display_data"
    },
    {
     "data": {
      "text/plain": [
       "[\"I \",\" a\",\"am\",\"m \",\" a\",\"an\",\"n \",\" N\",\"NL\",\"LP\",\"Pe\",\"er\"]"
      ]
     },
     "metadata": {},
     "output_type": "display_data"
    },
    {
     "data": {
      "text/plain": [
       "[\"I am \",\"am an \",\"an NLPer \"]"
      ]
     },
     "metadata": {},
     "output_type": "display_data"
    }
   ],
   "source": [
    "--0.5\n",
    "getNGram :: Int -> T.Text -> [T.Text] -> [T.Text]\n",
    "getNGram n s nGrams | n <= 0 = nGrams\n",
    "                    | T.length s < n = nGrams\n",
    "                    | otherwise = getNGram n (T.drop 1 s) (nGrams <> [T.take n s])\n",
    "\n",
    "getNWordsGram :: Int -> T.Text -> [T.Text]\n",
    "getNWordsGram n s = builder n (T.words s) []\n",
    "    where\n",
    "        builder :: Int -> [T.Text] -> [T.Text] -> [T.Text]\n",
    "        builder n ws nGrams | P.length ws < n = nGrams\n",
    "                            | n <= 0 = nGrams\n",
    "                            | otherwise = builder n (P.drop 1 ws) (nGrams <> [T.concat (P.map (\\t -> t <> \" \") $ P.take n ws)])\n",
    "\n",
    "print $ getNGram 2 \"I am an NLPer\" []\n",
    "print $ getNWordsGram 2 \"I am an NLPer\""
   ]
  },
  {
   "cell_type": "code",
   "execution_count": null,
   "id": "28932319",
   "metadata": {},
   "outputs": [
    {
     "data": {
      "text/plain": [
       "fromList [\"ad\",\"gr\",\"ar\",\"pa\",\"di\",\"ag\",\"se\",\"is\",\"ph\",\"ra\",\"ap\"]"
      ]
     },
     "metadata": {},
     "output_type": "display_data"
    },
    {
     "data": {
      "text/plain": [
       "fromList [\"ar\",\"pa\",\"ra\",\"ap\"]"
      ]
     },
     "metadata": {},
     "output_type": "display_data"
    },
    {
     "data": {
      "text/plain": [
       "fromList [\"ad\",\"di\",\"se\",\"is\"]"
      ]
     },
     "metadata": {},
     "output_type": "display_data"
    }
   ],
   "source": [
    "-- 00\n",
    "import qualified Data.HashSet as HS\n",
    "setX = HS.fromList $ getNGram 2 \"paraparaparadise\" []\n",
    "setY = HS.fromList $ getNGram 2 \"paragraph\" []\n",
    "\n",
    "print $ HS.unions [setX, setY]\n",
    "print $ HS.intersection setX setY\n",
    "print $ HS.difference setX setY"
   ]
  },
  {
   "cell_type": "code",
   "execution_count": null,
   "id": "99c0e4d3",
   "metadata": {},
   "outputs": [
    {
     "data": {
      "text/plain": [
       "12時の気温は22.4"
      ]
     },
     "metadata": {},
     "output_type": "display_data"
    }
   ],
   "source": [
    "-- 00\n",
    "{-# Language ScopedTypeVariables #-}\n",
    "{-# Language TypeApplications #-}\n",
    "{-# Language ConstraintKinds #-}\n",
    "{-# Language GADTs #-}\n",
    "\n",
    "import qualified Type.Reflection as TRF\n",
    "\n",
    "type Generable a = (Eq a, TRF.Typeable a, Show a)\n",
    "\n",
    "packToText :: forall a. (Eq a, TRF.Typeable a, Show a) => a -> T.Text\n",
    "packToText x =  \n",
    "    case TRF.eqTypeRep (TRF.typeRep @a) (TRF.typeRep @String) of\n",
    "        -- コンパイラは a と String が等しいことがわかる\n",
    "        Just HRefl -> T.pack x\n",
    "        Nothing -> T.pack $ show x\n",
    "\n",
    "f :: (Generable a, Generable b, Generable c) => a -> b -> c -> T.Text\n",
    "f x y z = packToText x <> \"時の\" <> packToText y <> \"は\" <> packToText z\n",
    "\n",
    "putStrLn $ T.unpack $ f 12 \"気温\" 22.4\n"
   ]
  },
  {
   "cell_type": "code",
   "execution_count": 34,
   "id": "712e4840",
   "metadata": {},
   "outputs": [
    {
     "data": {
      "text/plain": [
       "こんにちは gsrh rh vmxirkgvw nvhhztv. THIS IS NOT ENCRIPTED"
      ]
     },
     "metadata": {},
     "output_type": "display_data"
    },
    {
     "data": {
      "text/plain": [
       "こんにちは this is encripted message. THIS IS NOT ENCRIPTED"
      ]
     },
     "metadata": {},
     "output_type": "display_data"
    }
   ],
   "source": [
    "-- 00\n",
    "import qualified Data.ByteString as BS\n",
    "import qualified Data.ByteString.UTF8 as BSU\n",
    "import Data.Char\n",
    "\n",
    "encriptChar :: Char -> Char\n",
    "encriptChar c | isLower c = \n",
    "    let \n",
    "        cb = head $ BS.unpack $ BSU.fromChar c\n",
    "    in\n",
    "        head $ BSU.toString $ BS.pack [219 - cb]\n",
    "              | otherwise = c\n",
    "\n",
    "decriptChar :: Char -> Char\n",
    "decriptChar c =\n",
    "    if check c then\n",
    "        head $ BSU.toString $ BS.pack [219 - head (BS.unpack $ BSU.fromChar c)]\n",
    "    else\n",
    "        c\n",
    "    where\n",
    "        check c = \n",
    "            let\n",
    "                target = head (BS.unpack $ BSU.fromChar c) \n",
    "                min = head $ BS.unpack $ BSU.fromChar 'a'\n",
    "                max = head $ BS.unpack $ BSU.fromChar 'z'\n",
    "            in \n",
    "                min <= target && target <= max\n",
    "\n",
    "\n",
    "encript :: T.Text -> T.Text\n",
    "encript = T.map encriptChar\n",
    "\n",
    "decript :: T.Text -> T.Text\n",
    "decript = T.map decriptChar\n",
    "\n",
    "message = \"こんにちは this is encripted message. THIS IS NOT ENCRIPTED\"\n",
    "putStr $ T.unpack $ encript message\n",
    "putStr $ T.unpack $ decript (encript message) \n"
   ]
  },
  {
   "cell_type": "code",
   "execution_count": 53,
   "id": "5081215e",
   "metadata": {},
   "outputs": [
    {
     "data": {
      "text/plain": [
       "I cdoun’lt bvieele that I cuold aactlluy utnseadnrd what I was rndeiag : the pehmnneaol pwoer of the hmuan mind ."
      ]
     },
     "metadata": {},
     "output_type": "display_data"
    }
   ],
   "source": [
    "-- 00\n",
    "import qualified System.Random as RD\n",
    "import Debug.Trace\n",
    "\n",
    "factorial :: Int -> Int\n",
    "factorial 0 = 1\n",
    "factorial n | n > 0 = let n' = factorial (n -1) in seq n' $ n * n' \n",
    "\n",
    "interleave :: a -> [a] -> [[a]]\n",
    "interleave x [] = [[x]]\n",
    "interleave x (y:ys) = (x:y:ys) : map (y:) (interleave x ys)\n",
    "\n",
    "perms :: [a] -> [[a]]\n",
    "perms = foldr (concatMap . interleave) [[]]\n",
    "\n",
    "getTypoglycemia :: RD.RandomGen g => g -> String -> String\n",
    "getTypoglycemia g t | length t > 4 = \n",
    "    let\n",
    "        seed = perms (tail (init t))\n",
    "        n = fst $ RD.randomR (0, factorial (length t - 2) -1) g\n",
    "    in\n",
    "        [head t] ++ (seed !! n) ++ [last t]\n",
    "                    | otherwise = t\n",
    "\n",
    "arg = \"I couldn’t believe that I could actually understand what I was reading : the phenomenal power of the human mind .\"\n",
    "\n",
    "do \n",
    "    g <- RD.newStdGen\n",
    "    putStrLn $ unwords $map (getTypoglycemia g) (words arg)\n"
   ]
  },
  {
   "cell_type": "markdown",
   "id": "a325ab63",
   "metadata": {},
   "source": [
    "### chapter 2"
   ]
  },
  {
   "cell_type": "code",
   "execution_count": null,
   "id": "ecee8777",
   "metadata": {},
   "outputs": [],
   "source": []
  }
 ],
 "metadata": {
  "kernelspec": {
   "display_name": "Haskell",
   "language": "haskell",
   "name": "haskell"
  },
  "language_info": {
   "codemirror_mode": "ihaskell",
   "file_extension": ".hs",
   "mimetype": "text/x-haskell",
   "name": "haskell",
   "pygments_lexer": "Haskell",
   "version": "8.10.7"
  }
 },
 "nbformat": 4,
 "nbformat_minor": 5
}
